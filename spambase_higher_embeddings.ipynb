{
 "cells": [
  {
   "cell_type": "markdown",
   "metadata": {},
   "source": [
    "# Embedding Methods for Spam Email Detection\n",
    "\n",
    "We propose an e-mail spam filter which first embeds the e-mails in higher dimensional vector spaces then classifies them using machine learning methods. We test our filter on 'Spambase Dataset' available at [the UCI Machine Learning Repository](http://www.ics.uci.edu/~mlearn/MLRepository.html). For embedding the e-mails in higher dimensions, we use the vector representations of the words from the pretrained datasets by Word2Vec, GloVe, and FastText. For classification, we test with Logistic Regression (LogReg), Random Forest (RF), and Naive Bayes (NB) as well as some less transparent methods such as Support Vector Machines (SVM) and Multi-Layer Perceptor (MLP)."
   ]
  },
  {
   "cell_type": "markdown",
   "metadata": {},
   "source": [
    "## Introduction\n",
    "There are many publicly available benchmark spam datasets. In these datasets, the messages are usually kept as text like in the case of the below SMSSpamCollection"
   ]
  },
  {
   "cell_type": "code",
   "execution_count": 1,
   "metadata": {},
   "outputs": [],
   "source": [
    "import numpy as np\n",
    "import pandas as pd\n",
    "import os\n",
    "import io\n",
    "import re\n",
    "import glob \n",
    "import bcolz\n",
    "import pickle\n",
    "from sklearn.feature_extraction.text import CountVectorizer, TfidfVectorizer"
   ]
  },
  {
   "cell_type": "code",
   "execution_count": 2,
   "metadata": {},
   "outputs": [
    {
     "data": {
      "text/html": [
       "<div>\n",
       "<style scoped>\n",
       "    .dataframe tbody tr th:only-of-type {\n",
       "        vertical-align: middle;\n",
       "    }\n",
       "\n",
       "    .dataframe tbody tr th {\n",
       "        vertical-align: top;\n",
       "    }\n",
       "\n",
       "    .dataframe thead th {\n",
       "        text-align: right;\n",
       "    }\n",
       "</style>\n",
       "<table border=\"1\" class=\"dataframe\">\n",
       "  <thead>\n",
       "    <tr style=\"text-align: right;\">\n",
       "      <th></th>\n",
       "      <th>Label</th>\n",
       "      <th>SMS</th>\n",
       "    </tr>\n",
       "  </thead>\n",
       "  <tbody>\n",
       "    <tr>\n",
       "      <th>0</th>\n",
       "      <td>ham</td>\n",
       "      <td>Go until jurong point, crazy.. Available only ...</td>\n",
       "    </tr>\n",
       "    <tr>\n",
       "      <th>1</th>\n",
       "      <td>ham</td>\n",
       "      <td>Ok lar... Joking wif u oni...</td>\n",
       "    </tr>\n",
       "  </tbody>\n",
       "</table>\n",
       "</div>"
      ],
      "text/plain": [
       "  Label                                                SMS\n",
       "0   ham  Go until jurong point, crazy.. Available only ...\n",
       "1   ham                      Ok lar... Joking wif u oni..."
      ]
     },
     "execution_count": 2,
     "metadata": {},
     "output_type": "execute_result"
    }
   ],
   "source": [
    "data_sms=pd.read_csv('/mypath/smsspamcollection/SMSSpamCollection.txt',sep='\\t',index_col=False,header=None,names=['Label','SMS'])\n",
    "number_of_sms=data_sms.shape[0]\n",
    "data_sms_nolabel=data_sms['SMS'] #SMS series\n",
    "label=data_sms['Label'] #Label series\n",
    "y=np.array([1 if label.iloc[i]=='spam' else 0 for i in range(number_of_sms)]) #convert the label to numeric (to be used later)\n",
    "data_sms.head(2)"
   ]
  },
  {
   "cell_type": "markdown",
   "metadata": {},
   "source": [
    "or sometimes to protect privacy they are encoded like in the case of PU corpora."
   ]
  },
  {
   "cell_type": "code",
   "execution_count": 3,
   "metadata": {},
   "outputs": [
    {
     "data": {
      "text/html": [
       "<div>\n",
       "<style scoped>\n",
       "    .dataframe tbody tr th:only-of-type {\n",
       "        vertical-align: middle;\n",
       "    }\n",
       "\n",
       "    .dataframe tbody tr th {\n",
       "        vertical-align: top;\n",
       "    }\n",
       "\n",
       "    .dataframe thead th {\n",
       "        text-align: right;\n",
       "    }\n",
       "</style>\n",
       "<table border=\"1\" class=\"dataframe\">\n",
       "  <thead>\n",
       "    <tr style=\"text-align: right;\">\n",
       "      <th></th>\n",
       "      <th>Subject</th>\n",
       "      <th>Message</th>\n",
       "      <th>Label</th>\n",
       "    </tr>\n",
       "  </thead>\n",
       "  <tbody>\n",
       "    <tr>\n",
       "      <th>0</th>\n",
       "      <td>2056 118 22577 20908 14616</td>\n",
       "      <td>284 14851 80 16147 17345 14338 130 19410 47 58...</td>\n",
       "      <td>0</td>\n",
       "    </tr>\n",
       "    <tr>\n",
       "      <th>1</th>\n",
       "      <td>2056 118 14140 84 13147 1613 383 80 1867 1601...</td>\n",
       "      <td>284 4353 47 17011 15691 9997 18783 1613 1613 9...</td>\n",
       "      <td>0</td>\n",
       "    </tr>\n",
       "  </tbody>\n",
       "</table>\n",
       "</div>"
      ],
      "text/plain": [
       "                                             Subject  \\\n",
       "0                         2056 118 22577 20908 14616   \n",
       "1   2056 118 14140 84 13147 1613 383 80 1867 1601...   \n",
       "\n",
       "                                             Message Label  \n",
       "0  284 14851 80 16147 17345 14338 130 19410 47 58...     0  \n",
       "1  284 4353 47 17011 15691 9997 18783 1613 1613 9...     0  "
      ]
     },
     "execution_count": 3,
     "metadata": {},
     "output_type": "execute_result"
    }
   ],
   "source": [
    "data_pu1=pd.DataFrame(index=range(1099),columns=['Subject','Space','Message','Label'])\n",
    "for i,filename in enumerate(glob.glob('/mypath/pu_corpora_public/pu1/all_messages/*.txt')):\n",
    "\twith open(filename, 'r') as f:\n",
    "\t\tfor cnt, line in enumerate(f):\n",
    "\t\t\tdata_pu1.iloc[i][data_pu1.columns[cnt]]=line.replace('Subject:','').replace('\\n','')\n",
    "\tif re.search('legit',filename):\n",
    "\t\tdata_pu1.iloc[i]['Label'] =0\n",
    "\telse:\n",
    "\t\tdata_pu1.iloc[i]['Label'] =1\n",
    "data_pu1.drop('Space',inplace=True,axis=1)\n",
    "label_pu1=data_pu1['Label']\n",
    "subject_pu1=data_pu1['Subject']\n",
    "message_pu1=data_pu1['Message']\n",
    "data_pu1.head(2)"
   ]
  },
  {
   "cell_type": "markdown",
   "metadata": {},
   "source": [
    "An important step in text processing is to find a numerical representation of the text. Among such methods, *Bag-of-Words* (BoW), *CountVectorizer*, and *Term frequency - Inverse document frequency* (Tf-idf) are the most common ones."
   ]
  },
  {
   "cell_type": "markdown",
   "metadata": {},
   "source": [
    "The main idea behind the methods like BoW, CountVec, and TfIdf is to count, in different ways, the occurences of the words or collection of words in the corpus. For instance, in the LINES below, we count only the words which are not in the 'english' dictionnary."
   ]
  },
  {
   "cell_type": "code",
   "execution_count": 4,
   "metadata": {},
   "outputs": [],
   "source": [
    "vect=TfidfVectorizer(stop_words='english',ngram_range=(1,1))# initiate\n",
    "data_sms_vec=vect.fit_transform(data_sms_nolabel) #numeric sms"
   ]
  },
  {
   "cell_type": "code",
   "execution_count": 5,
   "metadata": {},
   "outputs": [
    {
     "data": {
      "text/html": [
       "<div>\n",
       "<style scoped>\n",
       "    .dataframe tbody tr th:only-of-type {\n",
       "        vertical-align: middle;\n",
       "    }\n",
       "\n",
       "    .dataframe tbody tr th {\n",
       "        vertical-align: top;\n",
       "    }\n",
       "\n",
       "    .dataframe thead th {\n",
       "        text-align: right;\n",
       "    }\n",
       "</style>\n",
       "<table border=\"1\" class=\"dataframe\">\n",
       "  <thead>\n",
       "    <tr style=\"text-align: right;\">\n",
       "      <th></th>\n",
       "      <th>00</th>\n",
       "      <th>000</th>\n",
       "      <th>000pes</th>\n",
       "      <th>008704050406</th>\n",
       "      <th>0089</th>\n",
       "      <th>0121</th>\n",
       "      <th>01223585236</th>\n",
       "      <th>01223585334</th>\n",
       "      <th>0125698789</th>\n",
       "      <th>02</th>\n",
       "      <th>...</th>\n",
       "      <th>zindgi</th>\n",
       "      <th>zoe</th>\n",
       "      <th>zogtorius</th>\n",
       "      <th>zoom</th>\n",
       "      <th>zouk</th>\n",
       "      <th>zyada</th>\n",
       "      <th>èn</th>\n",
       "      <th>ú1</th>\n",
       "      <th>〨ud</th>\n",
       "      <th>Label</th>\n",
       "    </tr>\n",
       "  </thead>\n",
       "  <tbody>\n",
       "    <tr>\n",
       "      <th>0</th>\n",
       "      <td>0.0</td>\n",
       "      <td>0.0</td>\n",
       "      <td>0.0</td>\n",
       "      <td>0.0</td>\n",
       "      <td>0.0</td>\n",
       "      <td>0.0</td>\n",
       "      <td>0.0</td>\n",
       "      <td>0.0</td>\n",
       "      <td>0.0</td>\n",
       "      <td>0.0</td>\n",
       "      <td>...</td>\n",
       "      <td>0.0</td>\n",
       "      <td>0.0</td>\n",
       "      <td>0.0</td>\n",
       "      <td>0.0</td>\n",
       "      <td>0.0</td>\n",
       "      <td>0.0</td>\n",
       "      <td>0.0</td>\n",
       "      <td>0.0</td>\n",
       "      <td>0.0</td>\n",
       "      <td>0</td>\n",
       "    </tr>\n",
       "    <tr>\n",
       "      <th>1</th>\n",
       "      <td>0.0</td>\n",
       "      <td>0.0</td>\n",
       "      <td>0.0</td>\n",
       "      <td>0.0</td>\n",
       "      <td>0.0</td>\n",
       "      <td>0.0</td>\n",
       "      <td>0.0</td>\n",
       "      <td>0.0</td>\n",
       "      <td>0.0</td>\n",
       "      <td>0.0</td>\n",
       "      <td>...</td>\n",
       "      <td>0.0</td>\n",
       "      <td>0.0</td>\n",
       "      <td>0.0</td>\n",
       "      <td>0.0</td>\n",
       "      <td>0.0</td>\n",
       "      <td>0.0</td>\n",
       "      <td>0.0</td>\n",
       "      <td>0.0</td>\n",
       "      <td>0.0</td>\n",
       "      <td>0</td>\n",
       "    </tr>\n",
       "    <tr>\n",
       "      <th>2</th>\n",
       "      <td>0.0</td>\n",
       "      <td>0.0</td>\n",
       "      <td>0.0</td>\n",
       "      <td>0.0</td>\n",
       "      <td>0.0</td>\n",
       "      <td>0.0</td>\n",
       "      <td>0.0</td>\n",
       "      <td>0.0</td>\n",
       "      <td>0.0</td>\n",
       "      <td>0.0</td>\n",
       "      <td>...</td>\n",
       "      <td>0.0</td>\n",
       "      <td>0.0</td>\n",
       "      <td>0.0</td>\n",
       "      <td>0.0</td>\n",
       "      <td>0.0</td>\n",
       "      <td>0.0</td>\n",
       "      <td>0.0</td>\n",
       "      <td>0.0</td>\n",
       "      <td>0.0</td>\n",
       "      <td>1</td>\n",
       "    </tr>\n",
       "    <tr>\n",
       "      <th>3</th>\n",
       "      <td>0.0</td>\n",
       "      <td>0.0</td>\n",
       "      <td>0.0</td>\n",
       "      <td>0.0</td>\n",
       "      <td>0.0</td>\n",
       "      <td>0.0</td>\n",
       "      <td>0.0</td>\n",
       "      <td>0.0</td>\n",
       "      <td>0.0</td>\n",
       "      <td>0.0</td>\n",
       "      <td>...</td>\n",
       "      <td>0.0</td>\n",
       "      <td>0.0</td>\n",
       "      <td>0.0</td>\n",
       "      <td>0.0</td>\n",
       "      <td>0.0</td>\n",
       "      <td>0.0</td>\n",
       "      <td>0.0</td>\n",
       "      <td>0.0</td>\n",
       "      <td>0.0</td>\n",
       "      <td>0</td>\n",
       "    </tr>\n",
       "  </tbody>\n",
       "</table>\n",
       "<p>4 rows × 8445 columns</p>\n",
       "</div>"
      ],
      "text/plain": [
       "    00  000  000pes  008704050406  0089  0121  01223585236  01223585334  \\\n",
       "0  0.0  0.0     0.0           0.0   0.0   0.0          0.0          0.0   \n",
       "1  0.0  0.0     0.0           0.0   0.0   0.0          0.0          0.0   \n",
       "2  0.0  0.0     0.0           0.0   0.0   0.0          0.0          0.0   \n",
       "3  0.0  0.0     0.0           0.0   0.0   0.0          0.0          0.0   \n",
       "\n",
       "   0125698789   02  ...    zindgi  zoe  zogtorius  zoom  zouk  zyada   èn  \\\n",
       "0         0.0  0.0  ...       0.0  0.0        0.0   0.0   0.0    0.0  0.0   \n",
       "1         0.0  0.0  ...       0.0  0.0        0.0   0.0   0.0    0.0  0.0   \n",
       "2         0.0  0.0  ...       0.0  0.0        0.0   0.0   0.0    0.0  0.0   \n",
       "3         0.0  0.0  ...       0.0  0.0        0.0   0.0   0.0    0.0  0.0   \n",
       "\n",
       "    ú1  〨ud  Label  \n",
       "0  0.0  0.0      0  \n",
       "1  0.0  0.0      0  \n",
       "2  0.0  0.0      1  \n",
       "3  0.0  0.0      0  \n",
       "\n",
       "[4 rows x 8445 columns]"
      ]
     },
     "execution_count": 5,
     "metadata": {},
     "output_type": "execute_result"
    }
   ],
   "source": [
    "data_sms_vec.shape\n",
    "features_vect=np.array(vect.get_feature_names())\n",
    "data_sms_frame=pd.DataFrame(np.array(data_sms_vec.todense()),columns=features_vect)\n",
    "data_sms_frame=data_sms_frame.join(pd.DataFrame({'Label':y}))\n",
    "data_sms_frame.head(4)"
   ]
  },
  {
   "cell_type": "markdown",
   "metadata": {},
   "source": [
    "This gives a numeric representation of the 5572 messages in terms of 8712 attributes determined by the default settings of the vectorizer TfidfVectorizer(). "
   ]
  },
  {
   "cell_type": "markdown",
   "metadata": {},
   "source": [
    "## Dataset\n",
    "In this notebook, we work with the Spambase dataset. Our motivation is to test whether novel techniques in Natural Language Processing (NLP) such as *Word2Vec*, *GloVe*, and *FastText* can improve classifying e-mails where the corpus is not known. The e-mails are represented by the frequency information of the pre-selected 57 attributes and an  attribute for the class the e-mail (1=spam, 0=non_spam). Let us have a look:"
   ]
  },
  {
   "cell_type": "code",
   "execution_count": 6,
   "metadata": {},
   "outputs": [
    {
     "data": {
      "text/html": [
       "<div>\n",
       "<style scoped>\n",
       "    .dataframe tbody tr th:only-of-type {\n",
       "        vertical-align: middle;\n",
       "    }\n",
       "\n",
       "    .dataframe tbody tr th {\n",
       "        vertical-align: top;\n",
       "    }\n",
       "\n",
       "    .dataframe thead th {\n",
       "        text-align: right;\n",
       "    }\n",
       "</style>\n",
       "<table border=\"1\" class=\"dataframe\">\n",
       "  <thead>\n",
       "    <tr style=\"text-align: right;\">\n",
       "      <th></th>\n",
       "      <th>make</th>\n",
       "      <th>address</th>\n",
       "      <th>all</th>\n",
       "      <th>3d</th>\n",
       "      <th>our</th>\n",
       "      <th>over</th>\n",
       "      <th>remove</th>\n",
       "      <th>internet</th>\n",
       "      <th>order</th>\n",
       "      <th>mail</th>\n",
       "      <th>...</th>\n",
       "      <th>;</th>\n",
       "      <th>(</th>\n",
       "      <th>[</th>\n",
       "      <th>!</th>\n",
       "      <th>$</th>\n",
       "      <th>#</th>\n",
       "      <th>capital_run_length_average</th>\n",
       "      <th>capital_run_length_longes</th>\n",
       "      <th>capital_run_length_total</th>\n",
       "      <th>Label</th>\n",
       "    </tr>\n",
       "  </thead>\n",
       "  <tbody>\n",
       "    <tr>\n",
       "      <th>0</th>\n",
       "      <td>0.00</td>\n",
       "      <td>0.64</td>\n",
       "      <td>0.64</td>\n",
       "      <td>0.0</td>\n",
       "      <td>0.32</td>\n",
       "      <td>0.00</td>\n",
       "      <td>0.00</td>\n",
       "      <td>0.00</td>\n",
       "      <td>0.00</td>\n",
       "      <td>0.00</td>\n",
       "      <td>...</td>\n",
       "      <td>0.00</td>\n",
       "      <td>0.000</td>\n",
       "      <td>0.0</td>\n",
       "      <td>0.778</td>\n",
       "      <td>0.000</td>\n",
       "      <td>0.000</td>\n",
       "      <td>3.756</td>\n",
       "      <td>61</td>\n",
       "      <td>278</td>\n",
       "      <td>1</td>\n",
       "    </tr>\n",
       "    <tr>\n",
       "      <th>1</th>\n",
       "      <td>0.21</td>\n",
       "      <td>0.28</td>\n",
       "      <td>0.50</td>\n",
       "      <td>0.0</td>\n",
       "      <td>0.14</td>\n",
       "      <td>0.28</td>\n",
       "      <td>0.21</td>\n",
       "      <td>0.07</td>\n",
       "      <td>0.00</td>\n",
       "      <td>0.94</td>\n",
       "      <td>...</td>\n",
       "      <td>0.00</td>\n",
       "      <td>0.132</td>\n",
       "      <td>0.0</td>\n",
       "      <td>0.372</td>\n",
       "      <td>0.180</td>\n",
       "      <td>0.048</td>\n",
       "      <td>5.114</td>\n",
       "      <td>101</td>\n",
       "      <td>1028</td>\n",
       "      <td>1</td>\n",
       "    </tr>\n",
       "    <tr>\n",
       "      <th>2</th>\n",
       "      <td>0.06</td>\n",
       "      <td>0.00</td>\n",
       "      <td>0.71</td>\n",
       "      <td>0.0</td>\n",
       "      <td>1.23</td>\n",
       "      <td>0.19</td>\n",
       "      <td>0.19</td>\n",
       "      <td>0.12</td>\n",
       "      <td>0.64</td>\n",
       "      <td>0.25</td>\n",
       "      <td>...</td>\n",
       "      <td>0.01</td>\n",
       "      <td>0.143</td>\n",
       "      <td>0.0</td>\n",
       "      <td>0.276</td>\n",
       "      <td>0.184</td>\n",
       "      <td>0.010</td>\n",
       "      <td>9.821</td>\n",
       "      <td>485</td>\n",
       "      <td>2259</td>\n",
       "      <td>1</td>\n",
       "    </tr>\n",
       "    <tr>\n",
       "      <th>3</th>\n",
       "      <td>0.00</td>\n",
       "      <td>0.00</td>\n",
       "      <td>0.00</td>\n",
       "      <td>0.0</td>\n",
       "      <td>0.63</td>\n",
       "      <td>0.00</td>\n",
       "      <td>0.31</td>\n",
       "      <td>0.63</td>\n",
       "      <td>0.31</td>\n",
       "      <td>0.63</td>\n",
       "      <td>...</td>\n",
       "      <td>0.00</td>\n",
       "      <td>0.137</td>\n",
       "      <td>0.0</td>\n",
       "      <td>0.137</td>\n",
       "      <td>0.000</td>\n",
       "      <td>0.000</td>\n",
       "      <td>3.537</td>\n",
       "      <td>40</td>\n",
       "      <td>191</td>\n",
       "      <td>1</td>\n",
       "    </tr>\n",
       "    <tr>\n",
       "      <th>4</th>\n",
       "      <td>0.00</td>\n",
       "      <td>0.00</td>\n",
       "      <td>0.00</td>\n",
       "      <td>0.0</td>\n",
       "      <td>0.63</td>\n",
       "      <td>0.00</td>\n",
       "      <td>0.31</td>\n",
       "      <td>0.63</td>\n",
       "      <td>0.31</td>\n",
       "      <td>0.63</td>\n",
       "      <td>...</td>\n",
       "      <td>0.00</td>\n",
       "      <td>0.135</td>\n",
       "      <td>0.0</td>\n",
       "      <td>0.135</td>\n",
       "      <td>0.000</td>\n",
       "      <td>0.000</td>\n",
       "      <td>3.537</td>\n",
       "      <td>40</td>\n",
       "      <td>191</td>\n",
       "      <td>1</td>\n",
       "    </tr>\n",
       "  </tbody>\n",
       "</table>\n",
       "<p>5 rows × 58 columns</p>\n",
       "</div>"
      ],
      "text/plain": [
       "   make  address   all   3d   our  over  remove  internet  order  mail  ...    \\\n",
       "0  0.00     0.64  0.64  0.0  0.32  0.00    0.00      0.00   0.00  0.00  ...     \n",
       "1  0.21     0.28  0.50  0.0  0.14  0.28    0.21      0.07   0.00  0.94  ...     \n",
       "2  0.06     0.00  0.71  0.0  1.23  0.19    0.19      0.12   0.64  0.25  ...     \n",
       "3  0.00     0.00  0.00  0.0  0.63  0.00    0.31      0.63   0.31  0.63  ...     \n",
       "4  0.00     0.00  0.00  0.0  0.63  0.00    0.31      0.63   0.31  0.63  ...     \n",
       "\n",
       "      ;      (    [      !      $      #  capital_run_length_average  \\\n",
       "0  0.00  0.000  0.0  0.778  0.000  0.000                       3.756   \n",
       "1  0.00  0.132  0.0  0.372  0.180  0.048                       5.114   \n",
       "2  0.01  0.143  0.0  0.276  0.184  0.010                       9.821   \n",
       "3  0.00  0.137  0.0  0.137  0.000  0.000                       3.537   \n",
       "4  0.00  0.135  0.0  0.135  0.000  0.000                       3.537   \n",
       "\n",
       "   capital_run_length_longes  capital_run_length_total  Label  \n",
       "0                         61                       278      1  \n",
       "1                        101                      1028      1  \n",
       "2                        485                      2259      1  \n",
       "3                         40                       191      1  \n",
       "4                         40                       191      1  \n",
       "\n",
       "[5 rows x 58 columns]"
      ]
     },
     "execution_count": 6,
     "metadata": {},
     "output_type": "execute_result"
    }
   ],
   "source": [
    "from sklearn.preprocessing import StandardScaler, MinMaxScaler \n",
    "from sklearn.model_selection import train_test_split\n",
    "from sklearn.model_selection import GridSearchCV\n",
    "from sklearn.pipeline import Pipeline\n",
    "from sklearn.linear_model import LogisticRegression\n",
    "from sklearn.ensemble import RandomForestClassifier\n",
    "from sklearn.svm import SVC\n",
    "from sklearn.neighbors import KNeighborsClassifier\n",
    "from sklearn.tree import DecisionTreeClassifier\n",
    "from sklearn.discriminant_analysis import LinearDiscriminantAnalysis\n",
    "from sklearn.metrics import confusion_matrix\n",
    "from sklearn.decomposition import PCA\n",
    "#load the data as an array\n",
    "data=np.genfromtxt('/mypath/spambase/spambase.txt',delimiter=',')\n",
    "labels=data[:,-1]\n",
    "data_nolabel=np.delete(data,57,axis=1)\n",
    "#as as a dataframe a more presentable form\n",
    "col_names=list(['make','address','all','3d','our','over','remove','internet','order','mail','receive','will','people','report','addresses','free','business','email','you','credit','your','font','000','money','hp','hpl','george','650','lab','labs','telnet','857','data','415','85','technology','1999','parts','pm','direct','cs','meeting','original','project','re','edu','table','conference',';','(','[','!','$','#','capital_run_length_average', 'capital_run_length_longes', 'capital_run_length_total','Label'])\n",
    "data_df=pd.read_csv('/mypath/spambase/spambase.txt',index_col=False,names=col_names) \n",
    "data_df.head()"
   ]
  },
  {
   "cell_type": "markdown",
   "metadata": {},
   "source": [
    "We separate 30% of the data for testing."
   ]
  },
  {
   "cell_type": "code",
   "execution_count": 7,
   "metadata": {},
   "outputs": [],
   "source": [
    "train_data,test_data,train_label,test_label=train_test_split(data_nolabel,labels,train_size=0.7,test_size=0.3,random_state=1654)"
   ]
  },
  {
   "cell_type": "markdown",
   "metadata": {},
   "source": [
    "Any model that we build will be an achievement if its accuracy is greater than the null accuracy: "
   ]
  },
  {
   "cell_type": "code",
   "execution_count": 8,
   "metadata": {},
   "outputs": [
    {
     "name": "stdout",
     "output_type": "stream",
     "text": [
      "{'Non-Spam': 0.6046343229543809, 'Spam': 0.3953656770456191}\n"
     ]
    }
   ],
   "source": [
    "null_model={'Non-Spam':1-test_label.mean(),'Spam':test_label.mean()}\n",
    "print(null_model)"
   ]
  },
  {
   "cell_type": "markdown",
   "metadata": {},
   "source": [
    "As this corpus is already in numerical form, we can train our first classifiers right away. We try 5 different types of classifiers: Logistic Regression, Linear Discriminant Analysis (LDA), Support Vector Machines (SVM), Boosted Tree, Random Forest, and Nearest Neighborhood. As our purpose is not the atteint the highest accuracy, we will not go into the parameter search and use all methods with their default settings in scikit-learn.   "
   ]
  },
  {
   "cell_type": "code",
   "execution_count": 9,
   "metadata": {},
   "outputs": [
    {
     "name": "stdout",
     "output_type": "stream",
     "text": [
      "Acc: 0.9290369297610427\n",
      "TN: 793 FP: 42 FN: 56 TP: 490\n"
     ]
    }
   ],
   "source": [
    "# Logistic Regression (92.90%)\n",
    "logreg=LogisticRegression(random_state=55973,solver='liblinear')\n",
    "logreg.fit(train_data,train_label)\n",
    "test_pred=logreg.predict(test_data)\n",
    "print('Acc:',logreg.score(test_data,test_label))\n",
    "tn, fp, fn, tp=confusion_matrix(test_label,test_pred).ravel()\n",
    "print('TN:',tn,'FP:',fp,'FN:',fn,'TP:',tp)"
   ]
  },
  {
   "cell_type": "code",
   "execution_count": 10,
   "metadata": {},
   "outputs": [
    {
     "name": "stdout",
     "output_type": "stream",
     "text": [
      "Acc: 0.9601737871107893\n",
      "TN: 817 FP: 18 FN: 37 TP: 509\n"
     ]
    }
   ],
   "source": [
    "# Random Forest (96.02%)\n",
    "rf=RandomForestClassifier(random_state=55973,n_estimators=10)\n",
    "rf.fit(train_data,train_label)\n",
    "test_pred=rf.predict(test_data)\n",
    "print('Acc:',rf.score(test_data,test_label))\n",
    "tn, fp, fn, tp=confusion_matrix(test_label,test_pred).ravel()\n",
    "print('TN:',tn,'FP:',fp,'FN:',fn,'TP:',tp)"
   ]
  },
  {
   "cell_type": "code",
   "execution_count": 11,
   "metadata": {},
   "outputs": [
    {
     "name": "stdout",
     "output_type": "stream",
     "text": [
      "Acc: 0.834902244750181\n",
      "TN: 704 FP: 131 FN: 97 TP: 449\n"
     ]
    }
   ],
   "source": [
    "# SVM (83.49%)\n",
    "svm=SVC(random_state=55973,gamma='auto')\n",
    "svm.fit(train_data,train_label)\n",
    "test_pred=svm.predict(test_data)\n",
    "print('Acc:',svm.score(test_data,test_label))\n",
    "tn, fp, fn, tp=confusion_matrix(test_label,test_pred).ravel()\n",
    "print('TN:',tn,'FP:',fp,'FN:',fn,'TP:',tp)"
   ]
  },
  {
   "cell_type": "code",
   "execution_count": 12,
   "metadata": {},
   "outputs": [
    {
     "name": "stdout",
     "output_type": "stream",
     "text": [
      "Acc: 0.9167270094134685\n",
      "TN: 772 FP: 63 FN: 52 TP: 494\n"
     ]
    }
   ],
   "source": [
    "# Decision Tree (91.67%)\n",
    "tree=DecisionTreeClassifier(random_state=55973)\n",
    "tree.fit(train_data,train_label)\n",
    "test_pred=tree.predict(test_data)\n",
    "print('Acc:',tree.score(test_data,test_label))\n",
    "tn, fp, fn, tp=confusion_matrix(test_label,test_pred).ravel()\n",
    "print('TN:',tn,'FP:',fp,'FN:',fn,'TP:',tp)"
   ]
  },
  {
   "cell_type": "code",
   "execution_count": 13,
   "metadata": {},
   "outputs": [
    {
     "name": "stdout",
     "output_type": "stream",
     "text": [
      "Acc: 0.8957277335264301\n",
      "TN: 798 FP: 37 FN: 107 TP: 439\n"
     ]
    }
   ],
   "source": [
    "# LDA (89.57%)\n",
    "lda=LinearDiscriminantAnalysis()\n",
    "lda.fit(train_data,train_label)\n",
    "test_pred=lda.predict(test_data)\n",
    "print('Acc:',lda.score(test_data,test_label))\n",
    "tn, fp, fn, tp=confusion_matrix(test_label,test_pred).ravel()\n",
    "print('TN:',tn,'FP:',fp,'FN:',fn,'TP:',tp)"
   ]
  },
  {
   "cell_type": "code",
   "execution_count": 14,
   "metadata": {},
   "outputs": [
    {
     "name": "stdout",
     "output_type": "stream",
     "text": [
      "Acc: 0.7950760318609703\n",
      "TN: 708 FP: 127 FN: 156 TP: 390\n"
     ]
    }
   ],
   "source": [
    "# KNN (79.51%)\n",
    "knn=KNeighborsClassifier()\n",
    "knn.fit(train_data,train_label)\n",
    "test_pred=knn.predict(test_data)\n",
    "print('Acc:',knn.score(test_data,test_label))\n",
    "tn, fp, fn, tp=confusion_matrix(test_label,test_pred).ravel()\n",
    "print('TN:',tn,'FP:',fp,'FN:',fn,'TP:',tp)"
   ]
  },
  {
   "cell_type": "markdown",
   "metadata": {},
   "source": [
    "## Using Pretrained Methods\n",
    "Using pretrained datasets for *Word2Vec*, *GloVe*, and *FastText*, we embed the Spambase dataset to a higher dimension.  First of all, from the pretrained dataset, we choose the $d$-dimensional attribute (column) vectors ${v_1, . . . , v_{57}}$ that represent the 57 attributes of the dataset. Next, we find a vector representation of the e-mails by doing a weighted summation of the attribute vectors with weights being the frequencies. That is, for all $i=1,\\dots,4601$, $e_i =F(i,1)v_1 +...+F(i,n)v_n$ where $F=[F(i,j)]_{1\\leq i \\leq 4601,1\\leq j \\leq 57}$ is the dataset with labels(last column) removed. Finally, we arrange the vectors $e_i$ in the rows of the matrix $E = [e_1^T , \\dots, e_m^T]$ of type $4601 \\times d$. The matrix $E$ is the embedding of the e-mail corpus represented by the matrix $F$ to $d$ dimensions. Once the dataset is embedded into dimension $d$, we can train classifiers. One challenge that we might face during the above procedure is that some of the attributes might not have a corresponding vector in the used pretrained dataset. We will see how to handle these situations once we face them."
   ]
  },
  {
   "cell_type": "markdown",
   "metadata": {},
   "source": [
    "### Word2Vec Pretrained Dataset\n",
    "We fisrt try Googlenews pretrained word2vec 300 dimensional vectors ([1]) to embed our the dataset."
   ]
  },
  {
   "cell_type": "code",
   "execution_count": 15,
   "metadata": {},
   "outputs": [],
   "source": [
    "#load word2vec\n",
    "import gensim\n",
    "from gensim.models import Word2Vec\n",
    "w2v_words = gensim.models.KeyedVectors.load_word2vec_format(('/mypath/word2Vec/GoogleNews-vectors-negative300.bin'), binary=True)"
   ]
  },
  {
   "cell_type": "markdown",
   "metadata": {},
   "source": [
    "Loaded vectors can be seen with the command."
   ]
  },
  {
   "cell_type": "code",
   "execution_count": null,
   "metadata": {},
   "outputs": [],
   "source": [
    "w2v_words['the']"
   ]
  },
  {
   "cell_type": "markdown",
   "metadata": {},
   "source": [
    "We observe right away  that the words '000', 'hpl', '650', '857', '415', '85', '1999' do not have corresponding vectors. However all the characters in those missing words have. So we construct a vector for everyone of those missing words by adding the vectors that represent the characters in that word. For instance, for the word 'hpl', we add the vectors of the letters 'h', 'p', and 'l'."
   ]
  },
  {
   "cell_type": "code",
   "execution_count": 16,
   "metadata": {},
   "outputs": [],
   "source": [
    "word23_000=3*w2v_words['0']\n",
    "word26_hpl=w2v_words['h']+w2v_words['p']+w2v_words['l']\n",
    "word28_650=w2v_words['6']+w2v_words['5']+w2v_words['0']\n",
    "word32_857=w2v_words['8']+w2v_words['5']+w2v_words['7']\n",
    "word34_415=w2v_words['4']+w2v_words['1']+w2v_words['5']\n",
    "word35_85=w2v_words['8']+w2v_words['5']\n",
    "word37_1999=w2v_words['1']+w2v_words['9']+w2v_words['9']+w2v_words['9']+w2v_words['9']"
   ]
  },
  {
   "cell_type": "markdown",
   "metadata": {},
   "source": [
    "The other problem that we run into is that the punctuation symbols ';','(','\\[','!' as well as the 3 attributes 'capital_run_length_average', 'capital_run_length_longes', 'capital_run_length_total' do not have vector representation. For those, we simply concatanate their frequencies to the vectors. Hence, we obtain an embedding of the dataset into dimension 307."
   ]
  },
  {
   "cell_type": "code",
   "execution_count": 17,
   "metadata": {},
   "outputs": [
    {
     "name": "stdout",
     "output_type": "stream",
     "text": [
      "the dataset is now of the form (4601, 307)\n"
     ]
    }
   ],
   "source": [
    "email_words=np.column_stack([w2v_words['make'],w2v_words['address'],w2v_words['all'],w2v_words['3d'],w2v_words['our'],w2v_words['over'],w2v_words['remove'],w2v_words['internet'],w2v_words['order'],w2v_words['mail'],w2v_words['receive'],w2v_words['will'],w2v_words['people'],w2v_words['report'],w2v_words['addresses'],w2v_words['free'],w2v_words['business'],w2v_words['email'],w2v_words['you'],w2v_words['credit'],w2v_words['your'],w2v_words['font'],word23_000,w2v_words['money'],w2v_words['hp'],word26_hpl,w2v_words['george'],word28_650,w2v_words['lab'],w2v_words['labs'],w2v_words['telnet'],word32_857,w2v_words['data'],word34_415,word35_85,w2v_words['technology'],word37_1999,w2v_words['parts'],w2v_words['pm'],w2v_words['direct'],w2v_words['cs'],w2v_words['meeting'],w2v_words['original'],w2v_words['project'],w2v_words['re'],w2v_words['edu'],w2v_words['table'],w2v_words['conference'],w2v_words['$'],w2v_words['#']])\n",
    "email_coef=np.delete(data_nolabel,[48,49,50,51,54,55,56],axis=1)\n",
    "email_concat=np.delete(data_nolabel,np.append(np.arange(48),np.append(52,53)),axis=1)\n",
    "email_body=np.zeros([4601,300])\n",
    "for i in range(4601):\n",
    "\tfor j in range(50):\n",
    "\t\temail_body[i,:]=email_body[i,:]+email_coef[i,j]*email_words[:,j]\n",
    "emails=np.append(email_body,email_concat,axis=1)\n",
    "print(\"the dataset is now of the form\",emails.shape)"
   ]
  },
  {
   "cell_type": "markdown",
   "metadata": {},
   "source": [
    "We are ready to do classification."
   ]
  },
  {
   "cell_type": "code",
   "execution_count": 18,
   "metadata": {},
   "outputs": [],
   "source": [
    "w2v_train_data,w2v_test_data,w2v_train_label,w2v_test_label=train_test_split(emails,labels,train_size=0.7,test_size=0.3,random_state=1654)"
   ]
  },
  {
   "cell_type": "code",
   "execution_count": 19,
   "metadata": {},
   "outputs": [
    {
     "name": "stdout",
     "output_type": "stream",
     "text": [
      "Acc: 0.9297610427226647\n",
      "TN: 792 FP: 43 FN: 54 TP: 492\n"
     ]
    }
   ],
   "source": [
    "# Logistic Regression (92.98%)\n",
    "logreg_w2v=LogisticRegression(random_state=55973,solver='liblinear')\n",
    "logreg_w2v.fit(w2v_train_data,w2v_train_label)\n",
    "w2v_test_pred=logreg_w2v.predict(w2v_test_data)\n",
    "print('Acc:',logreg_w2v.score(w2v_test_data,w2v_test_label))\n",
    "tn, fp, fn, tp=confusion_matrix(w2v_test_label,w2v_test_pred).ravel()\n",
    "print('TN:',tn,'FP:',fp,'FN:',fn,'TP:',tp)"
   ]
  },
  {
   "cell_type": "code",
   "execution_count": 20,
   "metadata": {},
   "outputs": [
    {
     "name": "stdout",
     "output_type": "stream",
     "text": [
      "Acc: 0.9348298334540188\n",
      "TN: 798 FP: 37 FN: 53 TP: 493\n"
     ]
    }
   ],
   "source": [
    "# Random Forest (93.48%)\n",
    "rf_w2v=RandomForestClassifier(random_state=55973,n_estimators=10)\n",
    "rf_w2v.fit(w2v_train_data,w2v_train_label)\n",
    "w2v_test_pred=rf_w2v.predict(w2v_test_data)\n",
    "print('Acc:',rf_w2v.score(w2v_test_data,w2v_test_label))\n",
    "tn, fp, fn, tp=confusion_matrix(w2v_test_label,w2v_test_pred).ravel()\n",
    "print('TN:',tn,'FP:',fp,'FN:',fn,'TP:',tp)"
   ]
  },
  {
   "cell_type": "code",
   "execution_count": 21,
   "metadata": {},
   "outputs": [
    {
     "name": "stdout",
     "output_type": "stream",
     "text": [
      "Acc: 0.8740043446777698\n",
      "TN: 728 FP: 107 FN: 67 TP: 479\n"
     ]
    }
   ],
   "source": [
    "# SVM (87.40%)\n",
    "svm_w2v=SVC(random_state=55973,gamma='auto')\n",
    "svm_w2v.fit(w2v_train_data,w2v_train_label)\n",
    "w2v_test_pred=svm_w2v.predict(w2v_test_data)\n",
    "print('Acc:',svm_w2v.score(w2v_test_data,w2v_test_label))\n",
    "tn, fp, fn, tp=confusion_matrix(w2v_test_label,w2v_test_pred).ravel()\n",
    "print('TN:',tn,'FP:',fp,'FN:',fn,'TP:',tp)"
   ]
  },
  {
   "cell_type": "code",
   "execution_count": 22,
   "metadata": {},
   "outputs": [
    {
     "name": "stdout",
     "output_type": "stream",
     "text": [
      "Acc: 0.9058653149891384\n",
      "TN: 761 FP: 74 FN: 56 TP: 490\n"
     ]
    }
   ],
   "source": [
    "# Decision Tree (90.59%)\n",
    "tree_w2v=DecisionTreeClassifier(random_state=55973)\n",
    "tree_w2v.fit(w2v_train_data,w2v_train_label)\n",
    "w2v_test_pred=tree_w2v.predict(w2v_test_data)\n",
    "print('Acc:',tree_w2v.score(w2v_test_data,w2v_test_label))\n",
    "tn, fp, fn, tp=confusion_matrix(w2v_test_label,w2v_test_pred).ravel()\n",
    "print('TN:',tn,'FP:',fp,'FN:',fn,'TP:',tp)"
   ]
  },
  {
   "cell_type": "code",
   "execution_count": 23,
   "metadata": {},
   "outputs": [
    {
     "name": "stdout",
     "output_type": "stream",
     "text": [
      "Acc: 0.8957277335264301\n",
      "TN: 798 FP: 37 FN: 107 TP: 439\n"
     ]
    },
    {
     "name": "stderr",
     "output_type": "stream",
     "text": [
      "/Users/emintatar/anaconda3/lib/python3.6/site-packages/sklearn/discriminant_analysis.py:388: UserWarning: Variables are collinear.\n",
      "  warnings.warn(\"Variables are collinear.\")\n"
     ]
    }
   ],
   "source": [
    "# LDA (89.57%)\n",
    "lda_w2v=LinearDiscriminantAnalysis()\n",
    "lda_w2v.fit(w2v_train_data,w2v_train_label)\n",
    "w2v_test_pred=lda_w2v.predict(w2v_test_data)\n",
    "print('Acc:',lda_w2v.score(w2v_test_data,w2v_test_label))\n",
    "tn, fp, fn, tp=confusion_matrix(w2v_test_label,w2v_test_pred).ravel()\n",
    "print('TN:',tn,'FP:',fp,'FN:',fn,'TP:',tp)"
   ]
  },
  {
   "cell_type": "markdown",
   "metadata": {},
   "source": [
    "As the warning says the attributes are collinear. To remove colinearity, we apply PCA."
   ]
  },
  {
   "cell_type": "code",
   "execution_count": 24,
   "metadata": {},
   "outputs": [],
   "source": [
    "pca=PCA(n_components=307)\n",
    "emails_pca=pca.fit_transform(emails)\n",
    "w2v_train_data_pca,w2v_test_data_pca,w2v_train_label_pca,w2v_test_label_pca=train_test_split(emails_pca,labels,train_size=0.7,test_size=0.3,random_state=1654)"
   ]
  },
  {
   "cell_type": "code",
   "execution_count": 25,
   "metadata": {},
   "outputs": [
    {
     "name": "stdout",
     "output_type": "stream",
     "text": [
      "Acc: 0.8971759594496741\n",
      "TN: 788 FP: 47 FN: 95 TP: 451\n"
     ]
    }
   ],
   "source": [
    "# LDA with PCA (89.71%)\n",
    "lda_w2v_pca=LinearDiscriminantAnalysis()\n",
    "lda_w2v_pca.fit(w2v_train_data_pca,w2v_train_label_pca)\n",
    "w2v_pca_test_pred=lda_w2v_pca.predict(w2v_test_data_pca)\n",
    "print('Acc:',lda_w2v_pca.score(w2v_test_data_pca,w2v_test_label_pca))\n",
    "tn, fp, fn, tp=confusion_matrix(w2v_test_label_pca,w2v_pca_test_pred).ravel()\n",
    "print('TN:',tn,'FP:',fp,'FN:',fn,'TP:',tp)"
   ]
  },
  {
   "cell_type": "markdown",
   "metadata": {},
   "source": [
    "The collinearity is removed and the accuracy improves slightly."
   ]
  },
  {
   "cell_type": "code",
   "execution_count": 26,
   "metadata": {},
   "outputs": [
    {
     "name": "stdout",
     "output_type": "stream",
     "text": [
      "Acc: 0.8385228095582911\n",
      "TN: 719 FP: 116 FN: 107 TP: 439\n"
     ]
    }
   ],
   "source": [
    "# KNN (83.85%)\n",
    "knn_w2v=KNeighborsClassifier()\n",
    "knn_w2v.fit(w2v_train_data,w2v_train_label)\n",
    "w2v_test_pred=knn_w2v.predict(w2v_test_data)\n",
    "print('Acc:',knn_w2v.score(w2v_test_data,w2v_test_label))\n",
    "tn, fp, fn, tp=confusion_matrix(w2v_test_label,w2v_test_pred).ravel()\n",
    "print('TN:',tn,'FP:',fp,'FN:',fn,'TP:',tp)"
   ]
  },
  {
   "cell_type": "markdown",
   "metadata": {},
   "source": [
    "### GloVe Pretrained Dataset\n",
    "Let's try the same approch with 1.9 million 300-dimensional word vectors trained by GloVe on Common Crawl dataset.[2]"
   ]
  },
  {
   "cell_type": "code",
   "execution_count": 27,
   "metadata": {},
   "outputs": [],
   "source": [
    "#loading Glove pretrained \n",
    "words = []\n",
    "idx = 0\n",
    "word2idx = {}\n",
    "vectors = bcolz.carray(np.zeros(1), rootdir='/mypath/Glove/yukleme', mode='w')\n",
    "with open('/mypath/Glove/glove.6B.300d.txt', 'rb') as f:\n",
    "    for l in f:\n",
    "        line = l.decode().split()\n",
    "        word = line[0]\n",
    "        words.append(word)\n",
    "        word2idx[word] = idx\n",
    "        idx += 1\n",
    "        vect = np.array(line[1:]).astype(np.float)\n",
    "        vectors.append(vect)\n",
    "    \n",
    "vectors = bcolz.carray(vectors[1:].reshape((400000,300)), rootdir='/mypath/Glove/yukleme', mode='w')\n",
    "vectors.flush()\n",
    "pickle.dump(words, open('/mypath/Glove/glove.6B.300d.txt_words.pkl', 'wb'))\n",
    "pickle.dump(word2idx, open('/mypath/Glove/glove.6B.300d.txt_idx.pkl', 'wb'))\n",
    "\n",
    "glove_words = {w: vectors[word2idx[w]] for w in words} # creates the dictionary with the word and its associated vector"
   ]
  },
  {
   "cell_type": "markdown",
   "metadata": {},
   "source": [
    "We can see the loaded vectors with the command."
   ]
  },
  {
   "cell_type": "code",
   "execution_count": null,
   "metadata": {},
   "outputs": [],
   "source": [
    "glove_words['the']"
   ]
  },
  {
   "cell_type": "markdown",
   "metadata": {},
   "source": [
    "In this pretrained dataset, all the attributes except the 3 that correpond to the capital runs have vector representation. So by concatanating these 3 attributes to the pretrained vectors, we obtain an embedding of the e-mail dataset into dimension 303."
   ]
  },
  {
   "cell_type": "code",
   "execution_count": 28,
   "metadata": {},
   "outputs": [
    {
     "name": "stdout",
     "output_type": "stream",
     "text": [
      "the dataset is now of the form (4601, 303)\n"
     ]
    }
   ],
   "source": [
    "words_in_glove=['make','address','all','3d','our','over','remove','internet','order','mail','receive','will','people','report','addresses','free','business','email','you','credit','your','font','000','money','hp','hpl','george','650','lab','labs','telnet','857','data','415','85','technology','1999','parts','pm','direct','cs','meeting','original','project','re','edu','table','conference',';','(','[','!','$','#']\n",
    "email_glove_words=np.column_stack([glove_words['make'],glove_words['address'],glove_words['all'],glove_words['3d'],glove_words['our'],glove_words['over'],glove_words['remove'],glove_words['internet'],glove_words['order'],glove_words['mail'],glove_words['receive'],glove_words['will'],glove_words['people'],glove_words['report'],glove_words['addresses'],glove_words['free'],glove_words['business'],glove_words['email'],glove_words['you'],glove_words['credit'],glove_words['your'],glove_words['font'],glove_words['000'],glove_words['money'],glove_words['hp'],glove_words['hpl'],glove_words['george'],glove_words['650'],glove_words['lab'],glove_words['labs'],glove_words['telnet'],glove_words['857'],glove_words['data'],glove_words['415'],glove_words['85'],glove_words['technology'],glove_words['1999'],glove_words['parts'],glove_words['pm'],glove_words['direct'],glove_words['cs'],glove_words['meeting'],glove_words['original'],glove_words['project'],glove_words['re'],glove_words['edu'],glove_words['table'],glove_words['conference'],glove_words[';'],glove_words['('],glove_words['['],glove_words['!'],glove_words['$'],glove_words['#']])\n",
    "email_glove_coef=np.delete(data_nolabel,[54,55,56],axis=1)\n",
    "email_glove_concat=np.delete(data_nolabel,np.arange(54),axis=1)\n",
    "email_glove_body=np.zeros([4601,300])\n",
    "for i in range(4601):\n",
    "\tfor j in range(len(words_in_glove)):\n",
    "\t\temail_glove_body[i,:]=email_glove_body[i,:]+email_glove_coef[i,j]*email_glove_words[:,j]\n",
    "glove_emails=np.append(email_glove_body,email_glove_concat,axis=1)\n",
    "print(\"the dataset is now of the form\",glove_emails.shape)"
   ]
  },
  {
   "cell_type": "code",
   "execution_count": 29,
   "metadata": {},
   "outputs": [],
   "source": [
    "glove_train_data,glove_test_data,glove_train_label,glove_test_label=train_test_split(glove_emails,labels,train_size=0.7,test_size=0.3,random_state=1654)"
   ]
  },
  {
   "cell_type": "code",
   "execution_count": 30,
   "metadata": {},
   "outputs": [
    {
     "name": "stdout",
     "output_type": "stream",
     "text": [
      "Acc: 0.9304851556842868\n",
      "TN: 792 FP: 43 FN: 53 TP: 493\n"
     ]
    }
   ],
   "source": [
    "# Logistic Regression (93.05%)\n",
    "logreg_glove=LogisticRegression(random_state=55973,solver='liblinear')\n",
    "logreg_glove.fit(glove_train_data,glove_train_label)\n",
    "glove_test_pred=logreg_glove.predict(glove_test_data)\n",
    "print('Acc:',logreg_glove.score(glove_test_data,glove_test_label))\n",
    "tn, fp, fn, tp=confusion_matrix(glove_test_label,glove_test_pred).ravel()\n",
    "print('TN:',tn,'FP:',fp,'FN:',fn,'TP:',tp)"
   ]
  },
  {
   "cell_type": "code",
   "execution_count": 31,
   "metadata": {},
   "outputs": [
    {
     "name": "stdout",
     "output_type": "stream",
     "text": [
      "Acc: 0.9304851556842868\n",
      "TN: 804 FP: 31 FN: 65 TP: 481\n"
     ]
    }
   ],
   "source": [
    "# Random Forest (93.05%)\n",
    "rf_glove=RandomForestClassifier(random_state=55973,n_estimators=10)\n",
    "rf_glove.fit(glove_train_data,glove_train_label)\n",
    "glove_test_pred=rf_glove.predict(glove_test_data)\n",
    "print('Acc:',rf_glove.score(glove_test_data,glove_test_label))\n",
    "tn, fp, fn, tp=confusion_matrix(glove_test_label,glove_test_pred).ravel()\n",
    "print('TN:',tn,'FP:',fp,'FN:',fn,'TP:',tp)"
   ]
  },
  {
   "cell_type": "code",
   "execution_count": 32,
   "metadata": {},
   "outputs": [
    {
     "name": "stdout",
     "output_type": "stream",
     "text": [
      "Acc: 0.8689355539464156\n",
      "TN: 794 FP: 41 FN: 140 TP: 406\n"
     ]
    }
   ],
   "source": [
    "# SVM (86.89%)\n",
    "svm_glove=SVC(random_state=55973,gamma='auto')\n",
    "svm_glove.fit(glove_train_data,glove_train_label)\n",
    "glove_test_pred=svm_glove.predict(glove_test_data)\n",
    "print('Acc:',svm_glove.score(glove_test_data,glove_test_label))\n",
    "tn, fp, fn, tp=confusion_matrix(glove_test_label,glove_test_pred).ravel()\n",
    "print('TN:',tn,'FP:',fp,'FN:',fn,'TP:',tp)"
   ]
  },
  {
   "cell_type": "code",
   "execution_count": 33,
   "metadata": {},
   "outputs": [
    {
     "name": "stdout",
     "output_type": "stream",
     "text": [
      "Acc: 0.9058653149891384\n",
      "TN: 762 FP: 73 FN: 57 TP: 489\n"
     ]
    }
   ],
   "source": [
    "# Decision Tree (90.59%)\n",
    "tree_glove=DecisionTreeClassifier(random_state=55973)\n",
    "tree_glove.fit(glove_train_data,glove_train_label)\n",
    "glove_test_pred=tree_glove.predict(glove_test_data)\n",
    "print('Acc:',tree_glove.score(glove_test_data,glove_test_label))\n",
    "tn, fp, fn, tp=confusion_matrix(glove_test_label,glove_test_pred).ravel()\n",
    "print('TN:',tn,'FP:',fp,'FN:',fn,'TP:',tp)"
   ]
  },
  {
   "cell_type": "code",
   "execution_count": 34,
   "metadata": {},
   "outputs": [
    {
     "name": "stdout",
     "output_type": "stream",
     "text": [
      "Acc: 0.8957277335264301\n",
      "TN: 798 FP: 37 FN: 107 TP: 439\n"
     ]
    },
    {
     "name": "stderr",
     "output_type": "stream",
     "text": [
      "/Users/emintatar/anaconda3/lib/python3.6/site-packages/sklearn/discriminant_analysis.py:388: UserWarning: Variables are collinear.\n",
      "  warnings.warn(\"Variables are collinear.\")\n"
     ]
    }
   ],
   "source": [
    "# LDA (89.57%)\n",
    "lda_glove=LinearDiscriminantAnalysis()\n",
    "lda_glove.fit(glove_train_data,glove_train_label)\n",
    "glove_test_pred=lda_glove.predict(glove_test_data)\n",
    "print('Acc:',lda_glove.score(glove_test_data,glove_test_label))\n",
    "tn, fp, fn, tp=confusion_matrix(glove_test_label,glove_test_pred).ravel()\n",
    "print('TN:',tn,'FP:',fp,'FN:',fn,'TP:',tp)"
   ]
  },
  {
   "cell_type": "markdown",
   "metadata": {},
   "source": [
    "To remove collinearity, we apply again PCA."
   ]
  },
  {
   "cell_type": "code",
   "execution_count": 35,
   "metadata": {},
   "outputs": [],
   "source": [
    "pca=PCA(n_components=303)\n",
    "glove_emails_pca=pca.fit_transform(glove_emails)\n",
    "glove_train_data_pca,glove_test_data_pca,glove_train_label_pca,glove_test_label_pca=train_test_split(glove_emails_pca,labels,train_size=0.7,test_size=0.3,random_state=1654)"
   ]
  },
  {
   "cell_type": "code",
   "execution_count": 36,
   "metadata": {},
   "outputs": [
    {
     "name": "stdout",
     "output_type": "stream",
     "text": [
      "Acc: 0.9051412020275162\n",
      "TN: 796 FP: 39 FN: 92 TP: 454\n"
     ]
    }
   ],
   "source": [
    "# LDA with PCA (90.51%)\n",
    "lda_glove_pca=LinearDiscriminantAnalysis()\n",
    "lda_glove_pca.fit(glove_train_data_pca,glove_train_label_pca)\n",
    "glove_pca_test_pred=lda_glove_pca.predict(glove_test_data_pca)\n",
    "print('Acc:',lda_glove_pca.score(glove_test_data_pca,glove_test_label_pca))\n",
    "tn, fp, fn, tp=confusion_matrix(glove_test_label_pca,glove_pca_test_pred).ravel()\n",
    "print('TN:',tn,'FP:',fp,'FN:',fn,'TP:',tp)"
   ]
  },
  {
   "cell_type": "code",
   "execution_count": 37,
   "metadata": {},
   "outputs": [
    {
     "name": "stdout",
     "output_type": "stream",
     "text": [
      "Acc: 0.8790731354091238\n",
      "TN: 744 FP: 91 FN: 76 TP: 470\n"
     ]
    }
   ],
   "source": [
    "# KNN (87.91%)\n",
    "knn_glove=KNeighborsClassifier()\n",
    "knn_glove.fit(glove_train_data,glove_train_label)\n",
    "glove_test_pred=knn_glove.predict(glove_test_data)\n",
    "print('Acc:',knn_glove.score(glove_test_data,glove_test_label))\n",
    "tn, fp, fn, tp=confusion_matrix(glove_test_label,glove_test_pred).ravel()\n",
    "print('TN:',tn,'FP:',fp,'FN:',fn,'TP:',tp)"
   ]
  },
  {
   "cell_type": "markdown",
   "metadata": {},
   "source": [
    "### FastText Pretrained Dataset\n",
    "Finally, we repeat the same procedure one last time with 2 million 300-dimensional word vectors trained by FastText on Common Crawl dataset [3]."
   ]
  },
  {
   "cell_type": "code",
   "execution_count": 38,
   "metadata": {},
   "outputs": [],
   "source": [
    "#loading FastText pretrained \n",
    "words = []\n",
    "idx = 0\n",
    "word2idx = {}\n",
    "vectors = bcolz.carray(np.zeros(1), rootdir='/mypath/FastText/yukleme', mode='w')\n",
    "with open('/mypath/FastText/crawl-300d-2M.vec', 'rb') as f:\n",
    "    for l in f:\n",
    "        line = l.decode().split()\n",
    "        word = line[0]\n",
    "        words.append(word)\n",
    "        word2idx[word] = idx\n",
    "        idx += 1\n",
    "        vect = np.array(line[1:]).astype(np.float)\n",
    "        vectors.append(vect)\n",
    "    \n",
    "vectors = bcolz.carray(vectors[2:].reshape((1999995,300)), rootdir='/mypath/FastText/yukleme', mode='w')\n",
    "vectors.flush()\n",
    "pickle.dump(words, open('/mypath/FastText/crawl-300d-2M.vec_words.pkl', 'wb'))\n",
    "pickle.dump(word2idx, open('/mypath/FastText/crawl-300d-2M.vec_idx.pkl', 'wb'))\n",
    "\n",
    "\n",
    "fasttext_words = {w: vectors[word2idx[w]-1] for w in words[1:]}"
   ]
  },
  {
   "cell_type": "markdown",
   "metadata": {},
   "source": [
    "We can see the loaded vectors with the command."
   ]
  },
  {
   "cell_type": "code",
   "execution_count": null,
   "metadata": {},
   "outputs": [],
   "source": [
    "fasttext_words['the'] "
   ]
  },
  {
   "cell_type": "markdown",
   "metadata": {},
   "source": [
    "Like in the case of dataset trained by GloVe, all atributes except the 3 about capital run have vector presentation. "
   ]
  },
  {
   "cell_type": "code",
   "execution_count": 39,
   "metadata": {},
   "outputs": [
    {
     "name": "stdout",
     "output_type": "stream",
     "text": [
      "the dataset is now of the form (4601, 303)\n"
     ]
    }
   ],
   "source": [
    "email_fasttext_words=np.column_stack([fasttext_words['make'],fasttext_words['address'],fasttext_words['all'],fasttext_words['3d'],fasttext_words['our'],fasttext_words['over'],fasttext_words['remove'],fasttext_words['internet'],fasttext_words['order'],fasttext_words['mail'],fasttext_words['receive'],fasttext_words['will'],fasttext_words['people'],fasttext_words['report'],fasttext_words['addresses'],fasttext_words['free'],fasttext_words['business'],fasttext_words['email'],fasttext_words['you'],fasttext_words['credit'],fasttext_words['your'],fasttext_words['font'],fasttext_words['000'],fasttext_words['money'],fasttext_words['hp'],fasttext_words['hpl'],fasttext_words['george'],fasttext_words['650'],fasttext_words['lab'],fasttext_words['labs'],fasttext_words['telnet'],fasttext_words['857'],fasttext_words['data'],fasttext_words['415'],fasttext_words['85'],fasttext_words['technology'],fasttext_words['1999'],fasttext_words['parts'],fasttext_words['pm'],fasttext_words['direct'],fasttext_words['cs'],fasttext_words['meeting'],fasttext_words['original'],fasttext_words['project'],fasttext_words['re'],fasttext_words['edu'],fasttext_words['table'],fasttext_words['conference'],fasttext_words[';'],fasttext_words['('],fasttext_words['['],fasttext_words['!'],fasttext_words['$'],fasttext_words['#']])\n",
    "words_in_fasttext=['make','address','all','3d','our','over','remove','internet','order','mail','receive','will','people','report','addresses','free','business','email','you','credit','your','font','000','money','hp','hpl','george','650','lab','labs','telnet','857','data','415','85','technology','1999','parts','pm','direct','cs','meeting','original','project','re','edu','table','conference',';','(','[','!','$','#']\n",
    "\n",
    "email_fasttext_coef=np.delete(data_nolabel,[54,55,56],axis=1)\n",
    "email_fasttext_concat=np.delete(data_nolabel,np.arange(54),axis=1)\n",
    "email_fasttext_body=np.zeros([4601,300])\n",
    "for i in range(4601):\n",
    "\tfor j in range(len(words_in_fasttext)):\n",
    "\t\temail_fasttext_body[i,:]=email_fasttext_body[i,:]+email_fasttext_coef[i,j]*email_fasttext_words[:,j]\n",
    "\n",
    "fasttext_emails=np.append(email_fasttext_body,email_fasttext_concat,axis=1)\n",
    "print(\"the dataset is now of the form\",fasttext_emails.shape)"
   ]
  },
  {
   "cell_type": "code",
   "execution_count": 40,
   "metadata": {},
   "outputs": [],
   "source": [
    "fasttext_train_data,fasttext_test_data,fasttext_train_label,fasttext_test_label=train_test_split(fasttext_emails,labels,train_size=0.7,test_size=0.3,random_state=1654)"
   ]
  },
  {
   "cell_type": "code",
   "execution_count": 41,
   "metadata": {},
   "outputs": [
    {
     "name": "stdout",
     "output_type": "stream",
     "text": [
      "Acc: 0.9319333816075308\n",
      "TN: 793 FP: 42 FN: 52 TP: 494\n"
     ]
    }
   ],
   "source": [
    "# Logistic Regression (93.19%)\n",
    "logreg_fasttext=LogisticRegression(random_state=55973,solver='liblinear')\n",
    "logreg_fasttext.fit(fasttext_train_data,fasttext_train_label)\n",
    "fasttext_test_pred=logreg_fasttext.predict(fasttext_test_data)\n",
    "print('Acc:',logreg_fasttext.score(fasttext_test_data,fasttext_test_label))\n",
    "tn, fp, fn, tp=confusion_matrix(fasttext_test_label,fasttext_test_pred).ravel()\n",
    "print('TN:',tn,'FP:',fp,'FN:',fn,'TP:',tp)"
   ]
  },
  {
   "cell_type": "code",
   "execution_count": 43,
   "metadata": {},
   "outputs": [
    {
     "name": "stdout",
     "output_type": "stream",
     "text": [
      "Acc: 0.946415640839971\n",
      "TN: 809 FP: 26 FN: 48 TP: 498\n"
     ]
    }
   ],
   "source": [
    "# Random Forest (94.64%)\n",
    "rf_fasttext=RandomForestClassifier(random_state=55973,n_estimators=10)\n",
    "rf_fasttext.fit(fasttext_train_data,fasttext_train_label)\n",
    "fasttext_test_pred=rf_fasttext.predict(fasttext_test_data)\n",
    "print('Acc:',rf_fasttext.score(fasttext_test_data,fasttext_test_label))\n",
    "tn, fp, fn, tp=confusion_matrix(fasttext_test_label,fasttext_test_pred).ravel()\n",
    "print('TN:',tn,'FP:',fp,'FN:',fn,'TP:',tp)"
   ]
  },
  {
   "cell_type": "code",
   "execution_count": 44,
   "metadata": {},
   "outputs": [
    {
     "name": "stdout",
     "output_type": "stream",
     "text": [
      "Acc: 0.889210716871832\n",
      "TN: 744 FP: 91 FN: 62 TP: 484\n"
     ]
    }
   ],
   "source": [
    "# SVM (88.92%)\n",
    "svm_fasttext=SVC(random_state=55973,gamma='auto')\n",
    "svm_fasttext.fit(fasttext_train_data,fasttext_train_label)\n",
    "fasttext_test_pred=svm_fasttext.predict(fasttext_test_data)\n",
    "print('Acc:',svm_fasttext.score(fasttext_test_data,fasttext_test_label))\n",
    "tn, fp, fn, tp=confusion_matrix(fasttext_test_label,fasttext_test_pred).ravel()\n",
    "print('TN:',tn,'FP:',fp,'FN:',fn,'TP:',tp)"
   ]
  },
  {
   "cell_type": "code",
   "execution_count": 45,
   "metadata": {},
   "outputs": [
    {
     "name": "stdout",
     "output_type": "stream",
     "text": [
      "Acc: 0.9087617668356264\n",
      "TN: 766 FP: 69 FN: 57 TP: 489\n"
     ]
    }
   ],
   "source": [
    "# Decision Tree (90.88%)\n",
    "tree_fasttext=DecisionTreeClassifier(random_state=55973)\n",
    "tree_fasttext.fit(fasttext_train_data,fasttext_train_label)\n",
    "fasttext_test_pred=tree_fasttext.predict(fasttext_test_data)\n",
    "print('Acc:',tree_fasttext.score(fasttext_test_data,fasttext_test_label))\n",
    "tn, fp, fn, tp=confusion_matrix(fasttext_test_label,fasttext_test_pred).ravel()\n",
    "print('TN:',tn,'FP:',fp,'FN:',fn,'TP:',tp)"
   ]
  },
  {
   "cell_type": "code",
   "execution_count": 46,
   "metadata": {},
   "outputs": [
    {
     "name": "stdout",
     "output_type": "stream",
     "text": [
      "Acc: 0.8957277335264301\n",
      "TN: 798 FP: 37 FN: 107 TP: 439\n"
     ]
    },
    {
     "name": "stderr",
     "output_type": "stream",
     "text": [
      "/Users/emintatar/anaconda3/lib/python3.6/site-packages/sklearn/discriminant_analysis.py:388: UserWarning: Variables are collinear.\n",
      "  warnings.warn(\"Variables are collinear.\")\n"
     ]
    }
   ],
   "source": [
    "# LDA (89.57%)\n",
    "lda_fasttext=LinearDiscriminantAnalysis()\n",
    "lda_fasttext.fit(fasttext_train_data,fasttext_train_label)\n",
    "fasttext_test_pred=lda_fasttext.predict(fasttext_test_data)\n",
    "print('Acc:',lda_fasttext.score(fasttext_test_data,fasttext_test_label))\n",
    "tn, fp, fn, tp=confusion_matrix(fasttext_test_label,fasttext_test_pred).ravel()\n",
    "print('TN:',tn,'FP:',fp,'FN:',fn,'TP:',tp)"
   ]
  },
  {
   "cell_type": "markdown",
   "metadata": {},
   "source": [
    "Apply PCA to remove collinearity."
   ]
  },
  {
   "cell_type": "code",
   "execution_count": 47,
   "metadata": {},
   "outputs": [],
   "source": [
    "pca=PCA(n_components=303)\n",
    "fasttext_emails_pca=pca.fit_transform(fasttext_emails)\n",
    "fasttext_train_data_pca,fasttext_test_data_pca,fasttext_train_label_pca,fasttext_test_label_pca=train_test_split(fasttext_emails_pca,labels,train_size=0.7,test_size=0.3,random_state=1654)"
   ]
  },
  {
   "cell_type": "code",
   "execution_count": 48,
   "metadata": {},
   "outputs": [
    {
     "name": "stdout",
     "output_type": "stream",
     "text": [
      "Acc: 0.9000724112961622\n",
      "TN: 799 FP: 36 FN: 102 TP: 444\n"
     ]
    }
   ],
   "source": [
    "# LDA with PCA (90%)\n",
    "lda_fasttext_pca=LinearDiscriminantAnalysis()\n",
    "lda_fasttext_pca.fit(fasttext_train_data_pca,fasttext_train_label_pca)\n",
    "fasttext_pca_test_pred=lda_fasttext_pca.predict(fasttext_test_data_pca)\n",
    "print('Acc:',lda_fasttext_pca.score(fasttext_test_data_pca,fasttext_test_label_pca))\n",
    "tn, fp, fn, tp=confusion_matrix(fasttext_test_label_pca,fasttext_pca_test_pred).ravel()\n",
    "print('TN:',tn,'FP:',fp,'FN:',fn,'TP:',tp)"
   ]
  },
  {
   "cell_type": "code",
   "execution_count": 49,
   "metadata": {},
   "outputs": [
    {
     "name": "stdout",
     "output_type": "stream",
     "text": [
      "Acc: 0.8515568428674873\n",
      "TN: 723 FP: 112 FN: 93 TP: 453\n"
     ]
    }
   ],
   "source": [
    "# KNN (85.16%)\n",
    "knn_fasttext=KNeighborsClassifier()\n",
    "knn_fasttext.fit(fasttext_train_data,fasttext_train_label)\n",
    "fasttext_test_pred=knn_fasttext.predict(fasttext_test_data)\n",
    "print('Acc:',knn_fasttext.score(fasttext_test_data,fasttext_test_label))\n",
    "tn, fp, fn, tp=confusion_matrix(fasttext_test_label,fasttext_test_pred).ravel()\n",
    "print('TN:',tn,'FP:',fp,'FN:',fn,'TP:',tp)"
   ]
  },
  {
   "cell_type": "markdown",
   "metadata": {},
   "source": [
    "## Conclusion"
   ]
  },
  {
   "cell_type": "code",
   "execution_count": 90,
   "metadata": {},
   "outputs": [],
   "source": [
    "results=pd.DataFrame({'Classifier':['LogReg','RandForest','SVM','D.Tree','PCA+LDA','KNN'],'Original':[logreg.score(test_data,test_label),rf.score(test_data,test_label),svm.score(test_data,test_label),tree.score(test_data,test_label),lda.score(test_data,test_label),knn.score(test_data,test_label)],'Word2Vec':[logreg_w2v.score(w2v_test_data,w2v_test_label),rf_w2v.score(w2v_test_data,w2v_test_label),svm_w2v.score(w2v_test_data,w2v_test_label),tree_w2v.score(w2v_test_data,w2v_test_label),lda_w2v_pca.score(w2v_test_data_pca,w2v_test_label_pca),knn_w2v.score(w2v_test_data,w2v_test_label)],'Glove':[logreg_glove.score(glove_test_data,glove_test_label),rf_glove.score(glove_test_data,glove_test_label),svm_glove.score(glove_test_data,glove_test_label),tree_glove.score(glove_test_data,glove_test_label),lda_glove_pca.score(glove_test_data_pca,glove_test_label_pca),knn_glove.score(glove_test_data,glove_test_label)],'FastText':[logreg_fasttext.score(fasttext_test_data,fasttext_test_label),rf_fasttext.score(fasttext_test_data,fasttext_test_label),svm_fasttext.score(fasttext_test_data,fasttext_test_label),tree_fasttext.score(fasttext_test_data,fasttext_test_label),lda_fasttext_pca.score(fasttext_test_data_pca,fasttext_test_label_pca),knn_fasttext.score(fasttext_test_data,fasttext_test_label)]})"
   ]
  },
  {
   "cell_type": "code",
   "execution_count": 91,
   "metadata": {},
   "outputs": [
    {
     "data": {
      "text/html": [
       "<div>\n",
       "<style scoped>\n",
       "    .dataframe tbody tr th:only-of-type {\n",
       "        vertical-align: middle;\n",
       "    }\n",
       "\n",
       "    .dataframe tbody tr th {\n",
       "        vertical-align: top;\n",
       "    }\n",
       "\n",
       "    .dataframe thead th {\n",
       "        text-align: right;\n",
       "    }\n",
       "</style>\n",
       "<table border=\"1\" class=\"dataframe\">\n",
       "  <thead>\n",
       "    <tr style=\"text-align: right;\">\n",
       "      <th></th>\n",
       "      <th>Classifier</th>\n",
       "      <th>Original</th>\n",
       "      <th>Word2Vec</th>\n",
       "      <th>Glove</th>\n",
       "      <th>FastText</th>\n",
       "    </tr>\n",
       "  </thead>\n",
       "  <tbody>\n",
       "    <tr>\n",
       "      <th>0</th>\n",
       "      <td>LogReg</td>\n",
       "      <td>0.929037</td>\n",
       "      <td>0.929761</td>\n",
       "      <td>0.930485</td>\n",
       "      <td>0.931933</td>\n",
       "    </tr>\n",
       "    <tr>\n",
       "      <th>1</th>\n",
       "      <td>RandForest</td>\n",
       "      <td>0.960174</td>\n",
       "      <td>0.934830</td>\n",
       "      <td>0.930485</td>\n",
       "      <td>0.946416</td>\n",
       "    </tr>\n",
       "    <tr>\n",
       "      <th>2</th>\n",
       "      <td>SVM</td>\n",
       "      <td>0.834902</td>\n",
       "      <td>0.874004</td>\n",
       "      <td>0.868936</td>\n",
       "      <td>0.889211</td>\n",
       "    </tr>\n",
       "    <tr>\n",
       "      <th>3</th>\n",
       "      <td>D.Tree</td>\n",
       "      <td>0.916727</td>\n",
       "      <td>0.905865</td>\n",
       "      <td>0.905865</td>\n",
       "      <td>0.908762</td>\n",
       "    </tr>\n",
       "    <tr>\n",
       "      <th>4</th>\n",
       "      <td>PCA+LDA</td>\n",
       "      <td>0.895728</td>\n",
       "      <td>0.897176</td>\n",
       "      <td>0.905141</td>\n",
       "      <td>0.900072</td>\n",
       "    </tr>\n",
       "    <tr>\n",
       "      <th>5</th>\n",
       "      <td>KNN</td>\n",
       "      <td>0.795076</td>\n",
       "      <td>0.838523</td>\n",
       "      <td>0.879073</td>\n",
       "      <td>0.851557</td>\n",
       "    </tr>\n",
       "  </tbody>\n",
       "</table>\n",
       "</div>"
      ],
      "text/plain": [
       "   Classifier  Original  Word2Vec     Glove  FastText\n",
       "0      LogReg  0.929037  0.929761  0.930485  0.931933\n",
       "1  RandForest  0.960174  0.934830  0.930485  0.946416\n",
       "2         SVM  0.834902  0.874004  0.868936  0.889211\n",
       "3      D.Tree  0.916727  0.905865  0.905865  0.908762\n",
       "4     PCA+LDA  0.895728  0.897176  0.905141  0.900072\n",
       "5         KNN  0.795076  0.838523  0.879073  0.851557"
      ]
     },
     "execution_count": 91,
     "metadata": {},
     "output_type": "execute_result"
    }
   ],
   "source": [
    "results"
   ]
  },
  {
   "cell_type": "code",
   "execution_count": 92,
   "metadata": {},
   "outputs": [
    {
     "data": {
      "image/png": "[encoded data removed]",
      "text/plain": [
       "<Figure size 432x288 with 1 Axes>"
      ]
     },
     "metadata": {},
     "output_type": "display_data"
    }
   ],
   "source": [
    "fig,ax=plt.subplots()\n",
    "results.plot(ax=ax,xticks=results.index,rot=45)\n",
    "ax.set_xticklabels(results['Classifier'])\n",
    "plt.show()"
   ]
  },
  {
   "cell_type": "markdown",
   "metadata": {},
   "source": [
    "We observe that embedding the dataset into higher dimensions gives slight advantage when linear classifiers are used and significant advantage when KNeighborhood classifier is used. On the other hand, the original form of the dataset clearly performs better when tree-based classifiers are used, something tht will be investigated in the further posts."
   ]
  },
  {
   "cell_type": "markdown",
   "metadata": {},
   "source": [
    "### Refenrences\n",
    "1) Tomas Mikolov, Kai Chen, Greg Corrado, and Jeffrey Dean. Efficient estimation of word representations in vector space. arXiv preprint arXiv:1301.3781, 2013.\n",
    "\n",
    "2) Jeffrey Pennington, Richard Socher, and Christopher D. Manning. Glove: Global vectors for word representation. In Empirical Methods in Natural Language Processing (EMNLP), pages 1532–1543, 2014.\n",
    "\n",
    "3) Armand Joulin, Edouard Grave, Piotr Bojanowski, and Tomas Mikolov. Bag of tricks for efficient text classification. arXiv preprint arXiv:1607.01759, 2016."
   ]
  }
 ],
 "metadata": {
  "kernelspec": {
   "display_name": "Python 3",
   "language": "python",
   "name": "python3"
  },
  "language_info": {
   "codemirror_mode": {
    "name": "ipython",
    "version": 3
   },
   "file_extension": ".py",
   "mimetype": "text/x-python",
   "name": "python",
   "nbconvert_exporter": "python",
   "pygments_lexer": "ipython3",
   "version": "3.6.5"
  }
 },
 "nbformat": 4,
 "nbformat_minor": 2
}
